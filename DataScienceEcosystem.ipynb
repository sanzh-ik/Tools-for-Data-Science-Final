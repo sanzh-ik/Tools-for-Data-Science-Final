{
 "cells": [
  {
   "cell_type": "markdown",
   "id": "9bbc36c3-1459-499e-8775-811e063f587a",
   "metadata": {
    "tags": []
   },
   "source": [
    "# Data Science Tools and Ecosystem "
   ]
  },
  {
   "cell_type": "markdown",
   "id": "9bc097da-182d-472d-883a-27a480b145af",
   "metadata": {},
   "source": [
    "### In this notebook, Data Science Tools and Ecosystem are summarized"
   ]
  },
  {
   "cell_type": "markdown",
   "id": "548cc07a-3430-468d-9ef5-d6bdb25e894b",
   "metadata": {},
   "source": [
    "### Objectives:\n",
    "+ List of popular languages in Data Science \n",
    "+ List of libraries in Data Science \n",
    "+ Open environments in Data Science \n",
    "+ Evaluating arithmetic expressions using Jupyter Notebook\n"
   ]
  },
  {
   "cell_type": "markdown",
   "id": "7979a0cd-d692-42da-bdc8-02568be497f9",
   "metadata": {
    "tags": []
   },
   "source": [
    "#### Some of the popular languages that Data Scientists use are:\n",
    "1. Python\n",
    "2. R\n",
    "3. SQL"
   ]
  },
  {
   "cell_type": "markdown",
   "id": "ee11ce71-f074-4dc9-822e-242b682d885c",
   "metadata": {},
   "source": [
    "#### Some of the commonly used libraries used by Data Scientists include:\n",
    "1. NumPy\n",
    "2. Matplotlib\n",
    "3. Tensorflow\n",
    "4. Scipy"
   ]
  },
  {
   "cell_type": "markdown",
   "id": "f9a9a6de-bb91-4651-9e6e-1247e0eab62f",
   "metadata": {},
   "source": [
    "|Data Science Tools| Visual Studio Code | Eclipse | Atom |\n",
    "|------------------|--------------------|---------|------|\n",
    "\n"
   ]
  },
  {
   "cell_type": "markdown",
   "id": "6c5c17e5-fe84-4c37-ad37-2b593b895b31",
   "metadata": {},
   "source": [
    "### Below are a few examples of evaluating arithmetic expressions in Python"
   ]
  },
  {
   "cell_type": "markdown",
   "id": "5f0a16ad-20b3-4ac1-8a07-b5013ea681dd",
   "metadata": {},
   "source": [
    "#### This a simple arithmetic expression to mutiply then add integers:"
   ]
  },
  {
   "cell_type": "code",
   "execution_count": 1,
   "id": "b8afb54e-32a2-4e99-ae57-effc5bcafdd1",
   "metadata": {
    "tags": []
   },
   "outputs": [
    {
     "data": {
      "text/plain": [
       "17"
      ]
     },
     "execution_count": 1,
     "metadata": {},
     "output_type": "execute_result"
    }
   ],
   "source": [
    "(3*4)+5"
   ]
  },
  {
   "cell_type": "markdown",
   "id": "ab150cc8-4eb9-4efd-883a-771faa38b805",
   "metadata": {},
   "source": [
    " #### This will convert 200 minutes to hours by diving by 60:\n",
    " "
   ]
  },
  {
   "cell_type": "code",
   "execution_count": 3,
   "id": "828c60f7-14ee-4b54-bd7f-e49c3e00a64c",
   "metadata": {
    "tags": []
   },
   "outputs": [
    {
     "data": {
      "text/plain": [
       "3.3333333333333335"
      ]
     },
     "execution_count": 3,
     "metadata": {},
     "output_type": "execute_result"
    }
   ],
   "source": [
    "200 / 60 "
   ]
  },
  {
   "cell_type": "markdown",
   "id": "a1aca1e0-8dcb-4eb7-ad28-126c6c0d80b8",
   "metadata": {
    "jp-MarkdownHeadingCollapsed": true,
    "tags": []
   },
   "source": [
    "## Author\n",
    "Sanzhar Zhanagizov"
   ]
  },
  {
   "cell_type": "code",
   "execution_count": null,
   "id": "43ff2146-d469-4e74-99ce-0152815c76d5",
   "metadata": {},
   "outputs": [],
   "source": []
  }
 ],
 "metadata": {
  "kernelspec": {
   "display_name": "Python",
   "language": "python",
   "name": "conda-env-python-py"
  },
  "language_info": {
   "codemirror_mode": {
    "name": "ipython",
    "version": 3
   },
   "file_extension": ".py",
   "mimetype": "text/x-python",
   "name": "python",
   "nbconvert_exporter": "python",
   "pygments_lexer": "ipython3",
   "version": "3.7.12"
  }
 },
 "nbformat": 4,
 "nbformat_minor": 5
}
